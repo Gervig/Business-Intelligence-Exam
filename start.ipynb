{
 "cells": [
  {
   "cell_type": "code",
   "execution_count": 45,
   "id": "53fa50a3",
   "metadata": {},
   "outputs": [],
   "source": [
    "import pandas as pd\n",
    "import plotly.express as px"
   ]
  },
  {
   "cell_type": "code",
   "execution_count": 26,
   "id": "8440bb4b",
   "metadata": {},
   "outputs": [],
   "source": [
    "data = pd.read_csv(\"Data/vgchartz-2024.csv\")"
   ]
  },
  {
   "cell_type": "code",
   "execution_count": 27,
   "id": "77a98e77",
   "metadata": {},
   "outputs": [],
   "source": [
    "# show all columns\n",
    "pd.set_option(\"display.max_columns\", None)"
   ]
  },
  {
   "cell_type": "code",
   "execution_count": 28,
   "id": "a8ff4aea",
   "metadata": {},
   "outputs": [
    {
     "data": {
      "text/plain": [
       "(64016, 14)"
      ]
     },
     "execution_count": 28,
     "metadata": {},
     "output_type": "execute_result"
    }
   ],
   "source": [
    "data.shape"
   ]
  },
  {
   "cell_type": "code",
   "execution_count": 29,
   "id": "ba77eed6",
   "metadata": {},
   "outputs": [
    {
     "data": {
      "text/html": [
       "<div>\n",
       "<style scoped>\n",
       "    .dataframe tbody tr th:only-of-type {\n",
       "        vertical-align: middle;\n",
       "    }\n",
       "\n",
       "    .dataframe tbody tr th {\n",
       "        vertical-align: top;\n",
       "    }\n",
       "\n",
       "    .dataframe thead th {\n",
       "        text-align: right;\n",
       "    }\n",
       "</style>\n",
       "<table border=\"1\" class=\"dataframe\">\n",
       "  <thead>\n",
       "    <tr style=\"text-align: right;\">\n",
       "      <th></th>\n",
       "      <th>img</th>\n",
       "      <th>title</th>\n",
       "      <th>console</th>\n",
       "      <th>genre</th>\n",
       "      <th>publisher</th>\n",
       "      <th>developer</th>\n",
       "      <th>critic_score</th>\n",
       "      <th>total_sales</th>\n",
       "      <th>na_sales</th>\n",
       "      <th>jp_sales</th>\n",
       "      <th>pal_sales</th>\n",
       "      <th>other_sales</th>\n",
       "      <th>release_date</th>\n",
       "      <th>last_update</th>\n",
       "    </tr>\n",
       "  </thead>\n",
       "  <tbody>\n",
       "    <tr>\n",
       "      <th>0</th>\n",
       "      <td>/games/boxart/full_6510540AmericaFrontccc.jpg</td>\n",
       "      <td>Grand Theft Auto V</td>\n",
       "      <td>PS3</td>\n",
       "      <td>Action</td>\n",
       "      <td>Rockstar Games</td>\n",
       "      <td>Rockstar North</td>\n",
       "      <td>9.4</td>\n",
       "      <td>20.32</td>\n",
       "      <td>6.37</td>\n",
       "      <td>0.99</td>\n",
       "      <td>9.85</td>\n",
       "      <td>3.12</td>\n",
       "      <td>2013-09-17</td>\n",
       "      <td>NaN</td>\n",
       "    </tr>\n",
       "    <tr>\n",
       "      <th>1</th>\n",
       "      <td>/games/boxart/full_5563178AmericaFrontccc.jpg</td>\n",
       "      <td>Grand Theft Auto V</td>\n",
       "      <td>PS4</td>\n",
       "      <td>Action</td>\n",
       "      <td>Rockstar Games</td>\n",
       "      <td>Rockstar North</td>\n",
       "      <td>9.7</td>\n",
       "      <td>19.39</td>\n",
       "      <td>6.06</td>\n",
       "      <td>0.60</td>\n",
       "      <td>9.71</td>\n",
       "      <td>3.02</td>\n",
       "      <td>2014-11-18</td>\n",
       "      <td>2018-01-03</td>\n",
       "    </tr>\n",
       "    <tr>\n",
       "      <th>2</th>\n",
       "      <td>/games/boxart/827563ccc.jpg</td>\n",
       "      <td>Grand Theft Auto: Vice City</td>\n",
       "      <td>PS2</td>\n",
       "      <td>Action</td>\n",
       "      <td>Rockstar Games</td>\n",
       "      <td>Rockstar North</td>\n",
       "      <td>9.6</td>\n",
       "      <td>16.15</td>\n",
       "      <td>8.41</td>\n",
       "      <td>0.47</td>\n",
       "      <td>5.49</td>\n",
       "      <td>1.78</td>\n",
       "      <td>2002-10-28</td>\n",
       "      <td>NaN</td>\n",
       "    </tr>\n",
       "    <tr>\n",
       "      <th>3</th>\n",
       "      <td>/games/boxart/full_9218923AmericaFrontccc.jpg</td>\n",
       "      <td>Grand Theft Auto V</td>\n",
       "      <td>X360</td>\n",
       "      <td>Action</td>\n",
       "      <td>Rockstar Games</td>\n",
       "      <td>Rockstar North</td>\n",
       "      <td>NaN</td>\n",
       "      <td>15.86</td>\n",
       "      <td>9.06</td>\n",
       "      <td>0.06</td>\n",
       "      <td>5.33</td>\n",
       "      <td>1.42</td>\n",
       "      <td>2013-09-17</td>\n",
       "      <td>NaN</td>\n",
       "    </tr>\n",
       "    <tr>\n",
       "      <th>4</th>\n",
       "      <td>/games/boxart/full_4990510AmericaFrontccc.jpg</td>\n",
       "      <td>Call of Duty: Black Ops 3</td>\n",
       "      <td>PS4</td>\n",
       "      <td>Shooter</td>\n",
       "      <td>Activision</td>\n",
       "      <td>Treyarch</td>\n",
       "      <td>8.1</td>\n",
       "      <td>15.09</td>\n",
       "      <td>6.18</td>\n",
       "      <td>0.41</td>\n",
       "      <td>6.05</td>\n",
       "      <td>2.44</td>\n",
       "      <td>2015-11-06</td>\n",
       "      <td>2018-01-14</td>\n",
       "    </tr>\n",
       "  </tbody>\n",
       "</table>\n",
       "</div>"
      ],
      "text/plain": [
       "                                             img                        title  \\\n",
       "0  /games/boxart/full_6510540AmericaFrontccc.jpg           Grand Theft Auto V   \n",
       "1  /games/boxart/full_5563178AmericaFrontccc.jpg           Grand Theft Auto V   \n",
       "2                    /games/boxart/827563ccc.jpg  Grand Theft Auto: Vice City   \n",
       "3  /games/boxart/full_9218923AmericaFrontccc.jpg           Grand Theft Auto V   \n",
       "4  /games/boxart/full_4990510AmericaFrontccc.jpg    Call of Duty: Black Ops 3   \n",
       "\n",
       "  console    genre       publisher       developer  critic_score  total_sales  \\\n",
       "0     PS3   Action  Rockstar Games  Rockstar North           9.4        20.32   \n",
       "1     PS4   Action  Rockstar Games  Rockstar North           9.7        19.39   \n",
       "2     PS2   Action  Rockstar Games  Rockstar North           9.6        16.15   \n",
       "3    X360   Action  Rockstar Games  Rockstar North           NaN        15.86   \n",
       "4     PS4  Shooter      Activision        Treyarch           8.1        15.09   \n",
       "\n",
       "   na_sales  jp_sales  pal_sales  other_sales release_date last_update  \n",
       "0      6.37      0.99       9.85         3.12   2013-09-17         NaN  \n",
       "1      6.06      0.60       9.71         3.02   2014-11-18  2018-01-03  \n",
       "2      8.41      0.47       5.49         1.78   2002-10-28         NaN  \n",
       "3      9.06      0.06       5.33         1.42   2013-09-17         NaN  \n",
       "4      6.18      0.41       6.05         2.44   2015-11-06  2018-01-14  "
      ]
     },
     "execution_count": 29,
     "metadata": {},
     "output_type": "execute_result"
    }
   ],
   "source": [
    "data.head()"
   ]
  },
  {
   "cell_type": "markdown",
   "id": "728380f9",
   "metadata": {},
   "source": [
    "## General Cleaning"
   ]
  },
  {
   "cell_type": "markdown",
   "id": "3c67f168",
   "metadata": {},
   "source": [
    "The different questions require different cleaning, so we start with a general cleaning, and clean for each question as needed"
   ]
  },
  {
   "cell_type": "code",
   "execution_count": 30,
   "id": "0113d149",
   "metadata": {},
   "outputs": [],
   "source": [
    "data_general_clean = data.copy()\n",
    "\n",
    "\n",
    "data_general_clean = data_general_clean.drop([\"last_update\"], axis=1)"
   ]
  },
  {
   "cell_type": "code",
   "execution_count": 31,
   "id": "9c0ace90",
   "metadata": {},
   "outputs": [
    {
     "data": {
      "text/plain": [
       "img                 0\n",
       "title               0\n",
       "console             0\n",
       "genre               0\n",
       "publisher           0\n",
       "developer          17\n",
       "critic_score    57338\n",
       "total_sales     45094\n",
       "na_sales        51379\n",
       "jp_sales        57290\n",
       "pal_sales       51192\n",
       "other_sales     48888\n",
       "release_date     7051\n",
       "dtype: int64"
      ]
     },
     "execution_count": 31,
     "metadata": {},
     "output_type": "execute_result"
    }
   ],
   "source": [
    "data_general_clean.isnull().sum()"
   ]
  },
  {
   "cell_type": "code",
   "execution_count": 32,
   "id": "6ecef083",
   "metadata": {},
   "outputs": [
    {
     "data": {
      "text/plain": [
       "np.int64(0)"
      ]
     },
     "execution_count": 32,
     "metadata": {},
     "output_type": "execute_result"
    }
   ],
   "source": [
    "data_general_clean.duplicated().sum()"
   ]
  },
  {
   "cell_type": "code",
   "execution_count": 33,
   "id": "00216e2e",
   "metadata": {},
   "outputs": [],
   "source": [
    "data_general_clean = data_general_clean.dropna(subset=[\"total_sales\"])"
   ]
  },
  {
   "cell_type": "code",
   "execution_count": 34,
   "id": "21ef42d4",
   "metadata": {},
   "outputs": [
    {
     "data": {
      "text/plain": [
       "(18922, 13)"
      ]
     },
     "execution_count": 34,
     "metadata": {},
     "output_type": "execute_result"
    }
   ],
   "source": [
    "data_general_clean.shape"
   ]
  },
  {
   "cell_type": "code",
   "execution_count": 39,
   "id": "c822af21",
   "metadata": {},
   "outputs": [
    {
     "data": {
      "text/html": [
       "<div>\n",
       "<style scoped>\n",
       "    .dataframe tbody tr th:only-of-type {\n",
       "        vertical-align: middle;\n",
       "    }\n",
       "\n",
       "    .dataframe tbody tr th {\n",
       "        vertical-align: top;\n",
       "    }\n",
       "\n",
       "    .dataframe thead th {\n",
       "        text-align: right;\n",
       "    }\n",
       "</style>\n",
       "<table border=\"1\" class=\"dataframe\">\n",
       "  <thead>\n",
       "    <tr style=\"text-align: right;\">\n",
       "      <th></th>\n",
       "      <th>img</th>\n",
       "      <th>title</th>\n",
       "      <th>console</th>\n",
       "      <th>genre</th>\n",
       "      <th>publisher</th>\n",
       "      <th>developer</th>\n",
       "      <th>critic_score</th>\n",
       "      <th>total_sales</th>\n",
       "      <th>na_sales</th>\n",
       "      <th>jp_sales</th>\n",
       "      <th>pal_sales</th>\n",
       "      <th>other_sales</th>\n",
       "      <th>release_date</th>\n",
       "    </tr>\n",
       "  </thead>\n",
       "  <tbody>\n",
       "    <tr>\n",
       "      <th>7357</th>\n",
       "      <td>/games/boxart/full_cabelas-survival-shadows-of...</td>\n",
       "      <td>Cabela's Survival: Shadows of Katmai</td>\n",
       "      <td>PS3</td>\n",
       "      <td>Sports</td>\n",
       "      <td>Activision</td>\n",
       "      <td>Activision</td>\n",
       "      <td>NaN</td>\n",
       "      <td>0.19</td>\n",
       "      <td>0.11</td>\n",
       "      <td>0.00</td>\n",
       "      <td>0.05</td>\n",
       "      <td>0.03</td>\n",
       "      <td>2011-11-01</td>\n",
       "    </tr>\n",
       "    <tr>\n",
       "      <th>203</th>\n",
       "      <td>/games/boxart/full_3513275AmericaFrontccc.jpg</td>\n",
       "      <td>Mario &amp; Sonic at the Olympic Winter Games</td>\n",
       "      <td>DS</td>\n",
       "      <td>Sports</td>\n",
       "      <td>Sega</td>\n",
       "      <td>Sega</td>\n",
       "      <td>7.6</td>\n",
       "      <td>3.47</td>\n",
       "      <td>1.21</td>\n",
       "      <td>0.27</td>\n",
       "      <td>1.63</td>\n",
       "      <td>0.37</td>\n",
       "      <td>2009-10-13</td>\n",
       "    </tr>\n",
       "    <tr>\n",
       "      <th>9171</th>\n",
       "      <td>/games/boxart/full_8348409JapanFrontccc.jpg</td>\n",
       "      <td>Soccer Tsuku DS: World Challenge 2010</td>\n",
       "      <td>DS</td>\n",
       "      <td>Sports</td>\n",
       "      <td>Sega</td>\n",
       "      <td>Sega</td>\n",
       "      <td>NaN</td>\n",
       "      <td>0.13</td>\n",
       "      <td>0.00</td>\n",
       "      <td>0.13</td>\n",
       "      <td>0.00</td>\n",
       "      <td>0.00</td>\n",
       "      <td>2010-05-27</td>\n",
       "    </tr>\n",
       "    <tr>\n",
       "      <th>559</th>\n",
       "      <td>/games/boxart/full_4909422AmericaFrontccc.jpg</td>\n",
       "      <td>Star Wars Battlefront II (2017)</td>\n",
       "      <td>XOne</td>\n",
       "      <td>Shooter</td>\n",
       "      <td>Electronic Arts</td>\n",
       "      <td>EA DICE</td>\n",
       "      <td>NaN</td>\n",
       "      <td>1.92</td>\n",
       "      <td>1.15</td>\n",
       "      <td>0.00</td>\n",
       "      <td>0.59</td>\n",
       "      <td>0.17</td>\n",
       "      <td>2017-11-17</td>\n",
       "    </tr>\n",
       "    <tr>\n",
       "      <th>1824</th>\n",
       "      <td>/games/boxart/full_8042351AmericaFrontccc.png</td>\n",
       "      <td>BioShock: The Collection</td>\n",
       "      <td>PS4</td>\n",
       "      <td>Shooter</td>\n",
       "      <td>2K Games</td>\n",
       "      <td>Blind Squirrel Digital, Inc</td>\n",
       "      <td>NaN</td>\n",
       "      <td>0.86</td>\n",
       "      <td>0.41</td>\n",
       "      <td>0.03</td>\n",
       "      <td>0.28</td>\n",
       "      <td>0.14</td>\n",
       "      <td>2016-09-13</td>\n",
       "    </tr>\n",
       "  </tbody>\n",
       "</table>\n",
       "</div>"
      ],
      "text/plain": [
       "                                                    img  \\\n",
       "7357  /games/boxart/full_cabelas-survival-shadows-of...   \n",
       "203       /games/boxart/full_3513275AmericaFrontccc.jpg   \n",
       "9171        /games/boxart/full_8348409JapanFrontccc.jpg   \n",
       "559       /games/boxart/full_4909422AmericaFrontccc.jpg   \n",
       "1824      /games/boxart/full_8042351AmericaFrontccc.png   \n",
       "\n",
       "                                          title console    genre  \\\n",
       "7357       Cabela's Survival: Shadows of Katmai     PS3   Sports   \n",
       "203   Mario & Sonic at the Olympic Winter Games      DS   Sports   \n",
       "9171      Soccer Tsuku DS: World Challenge 2010      DS   Sports   \n",
       "559             Star Wars Battlefront II (2017)    XOne  Shooter   \n",
       "1824                   BioShock: The Collection     PS4  Shooter   \n",
       "\n",
       "            publisher                    developer  critic_score  total_sales  \\\n",
       "7357       Activision                   Activision           NaN         0.19   \n",
       "203              Sega                         Sega           7.6         3.47   \n",
       "9171             Sega                         Sega           NaN         0.13   \n",
       "559   Electronic Arts                      EA DICE           NaN         1.92   \n",
       "1824         2K Games  Blind Squirrel Digital, Inc           NaN         0.86   \n",
       "\n",
       "      na_sales  jp_sales  pal_sales  other_sales release_date  \n",
       "7357      0.11      0.00       0.05         0.03   2011-11-01  \n",
       "203       1.21      0.27       1.63         0.37   2009-10-13  \n",
       "9171      0.00      0.13       0.00         0.00   2010-05-27  \n",
       "559       1.15      0.00       0.59         0.17   2017-11-17  \n",
       "1824      0.41      0.03       0.28         0.14   2016-09-13  "
      ]
     },
     "execution_count": 39,
     "metadata": {},
     "output_type": "execute_result"
    }
   ],
   "source": [
    "data_general_clean.sample(5)\n"
   ]
  },
  {
   "cell_type": "code",
   "execution_count": 36,
   "id": "ff115e22",
   "metadata": {},
   "outputs": [
    {
     "data": {
      "text/plain": [
       "img                 0\n",
       "title               0\n",
       "console             0\n",
       "genre               0\n",
       "publisher           0\n",
       "developer           4\n",
       "critic_score    14796\n",
       "total_sales         0\n",
       "na_sales         6285\n",
       "jp_sales        12196\n",
       "pal_sales        6098\n",
       "other_sales      3794\n",
       "release_date       90\n",
       "dtype: int64"
      ]
     },
     "execution_count": 36,
     "metadata": {},
     "output_type": "execute_result"
    }
   ],
   "source": [
    "data_general_clean.isnull().sum()"
   ]
  },
  {
   "cell_type": "code",
   "execution_count": 37,
   "id": "ca02e949",
   "metadata": {},
   "outputs": [],
   "source": [
    "data_general_clean[[\"na_sales\", \"jp_sales\", \"pal_sales\", \"other_sales\"]] = data_general_clean[[\"na_sales\", \"jp_sales\", \"pal_sales\", \"other_sales\"]].fillna(0)"
   ]
  },
  {
   "cell_type": "code",
   "execution_count": 38,
   "id": "0f98043e",
   "metadata": {},
   "outputs": [
    {
     "data": {
      "text/plain": [
       "img                 0\n",
       "title               0\n",
       "console             0\n",
       "genre               0\n",
       "publisher           0\n",
       "developer           4\n",
       "critic_score    14796\n",
       "total_sales         0\n",
       "na_sales            0\n",
       "jp_sales            0\n",
       "pal_sales           0\n",
       "other_sales         0\n",
       "release_date       90\n",
       "dtype: int64"
      ]
     },
     "execution_count": 38,
     "metadata": {},
     "output_type": "execute_result"
    }
   ],
   "source": [
    "data_general_clean.isnull().sum()"
   ]
  },
  {
   "cell_type": "code",
   "execution_count": 44,
   "id": "84ba9eba",
   "metadata": {},
   "outputs": [
    {
     "data": {
      "text/html": [
       "<div>\n",
       "<style scoped>\n",
       "    .dataframe tbody tr th:only-of-type {\n",
       "        vertical-align: middle;\n",
       "    }\n",
       "\n",
       "    .dataframe tbody tr th {\n",
       "        vertical-align: top;\n",
       "    }\n",
       "\n",
       "    .dataframe thead th {\n",
       "        text-align: right;\n",
       "    }\n",
       "</style>\n",
       "<table border=\"1\" class=\"dataframe\">\n",
       "  <thead>\n",
       "    <tr style=\"text-align: right;\">\n",
       "      <th></th>\n",
       "      <th>img</th>\n",
       "      <th>title</th>\n",
       "      <th>console</th>\n",
       "      <th>genre</th>\n",
       "      <th>publisher</th>\n",
       "      <th>developer</th>\n",
       "      <th>critic_score</th>\n",
       "      <th>total_sales</th>\n",
       "      <th>na_sales</th>\n",
       "      <th>jp_sales</th>\n",
       "      <th>pal_sales</th>\n",
       "      <th>other_sales</th>\n",
       "      <th>release_date</th>\n",
       "      <th>month</th>\n",
       "      <th>year</th>\n",
       "    </tr>\n",
       "  </thead>\n",
       "  <tbody>\n",
       "    <tr>\n",
       "      <th>8307</th>\n",
       "      <td>/games/boxart/full_victorious-hollywood-arts-d...</td>\n",
       "      <td>Victorious: Hollywood Arts Debut</td>\n",
       "      <td>DS</td>\n",
       "      <td>Misc</td>\n",
       "      <td>D3 Publisher</td>\n",
       "      <td>Namco Bandai Games</td>\n",
       "      <td>NaN</td>\n",
       "      <td>0.15</td>\n",
       "      <td>0.13</td>\n",
       "      <td>0.00</td>\n",
       "      <td>0.01</td>\n",
       "      <td>0.01</td>\n",
       "      <td>2011-11-15</td>\n",
       "      <td>11</td>\n",
       "      <td>2011</td>\n",
       "    </tr>\n",
       "    <tr>\n",
       "      <th>9066</th>\n",
       "      <td>/games/boxart/9590207ccc.jpg</td>\n",
       "      <td>Assault: Retribution</td>\n",
       "      <td>PS</td>\n",
       "      <td>Action</td>\n",
       "      <td>Midway Games</td>\n",
       "      <td>Candle Light Studios</td>\n",
       "      <td>NaN</td>\n",
       "      <td>0.13</td>\n",
       "      <td>0.07</td>\n",
       "      <td>0.00</td>\n",
       "      <td>0.05</td>\n",
       "      <td>0.01</td>\n",
       "      <td>1998-10-31</td>\n",
       "      <td>10</td>\n",
       "      <td>1998</td>\n",
       "    </tr>\n",
       "    <tr>\n",
       "      <th>14308</th>\n",
       "      <td>/games/boxart/full_marble-madness-klax_4Americ...</td>\n",
       "      <td>Marble Madness / Klax</td>\n",
       "      <td>GBA</td>\n",
       "      <td>Puzzle</td>\n",
       "      <td>DSI Games</td>\n",
       "      <td>Frame Studios Interactive</td>\n",
       "      <td>NaN</td>\n",
       "      <td>0.03</td>\n",
       "      <td>0.02</td>\n",
       "      <td>0.00</td>\n",
       "      <td>0.01</td>\n",
       "      <td>0.00</td>\n",
       "      <td>2005-08-16</td>\n",
       "      <td>8</td>\n",
       "      <td>2005</td>\n",
       "    </tr>\n",
       "    <tr>\n",
       "      <th>11824</th>\n",
       "      <td>/games/boxart/full_3418167JapanFrontccc.jpg</td>\n",
       "      <td>Kenyuu Densetsu Yaiba</td>\n",
       "      <td>SNES</td>\n",
       "      <td>Role-Playing</td>\n",
       "      <td>Banpresto</td>\n",
       "      <td>Atelier Double</td>\n",
       "      <td>NaN</td>\n",
       "      <td>0.07</td>\n",
       "      <td>0.00</td>\n",
       "      <td>0.07</td>\n",
       "      <td>0.00</td>\n",
       "      <td>0.00</td>\n",
       "      <td>1994-03-25</td>\n",
       "      <td>3</td>\n",
       "      <td>1994</td>\n",
       "    </tr>\n",
       "    <tr>\n",
       "      <th>746</th>\n",
       "      <td>/games/boxart/full_lego-harry-potter-years-1-4...</td>\n",
       "      <td>LEGO Harry Potter: Years 1-4</td>\n",
       "      <td>X360</td>\n",
       "      <td>Adventure</td>\n",
       "      <td>Warner Bros. Interactive</td>\n",
       "      <td>Traveller's Tales</td>\n",
       "      <td>7.9</td>\n",
       "      <td>1.59</td>\n",
       "      <td>0.95</td>\n",
       "      <td>0.00</td>\n",
       "      <td>0.50</td>\n",
       "      <td>0.14</td>\n",
       "      <td>2010-06-29</td>\n",
       "      <td>6</td>\n",
       "      <td>2010</td>\n",
       "    </tr>\n",
       "  </tbody>\n",
       "</table>\n",
       "</div>"
      ],
      "text/plain": [
       "                                                     img  \\\n",
       "8307   /games/boxart/full_victorious-hollywood-arts-d...   \n",
       "9066                        /games/boxart/9590207ccc.jpg   \n",
       "14308  /games/boxart/full_marble-madness-klax_4Americ...   \n",
       "11824        /games/boxart/full_3418167JapanFrontccc.jpg   \n",
       "746    /games/boxart/full_lego-harry-potter-years-1-4...   \n",
       "\n",
       "                                  title console         genre  \\\n",
       "8307   Victorious: Hollywood Arts Debut      DS          Misc   \n",
       "9066               Assault: Retribution      PS        Action   \n",
       "14308             Marble Madness / Klax     GBA        Puzzle   \n",
       "11824             Kenyuu Densetsu Yaiba    SNES  Role-Playing   \n",
       "746        LEGO Harry Potter: Years 1-4    X360     Adventure   \n",
       "\n",
       "                      publisher                  developer  critic_score  \\\n",
       "8307               D3 Publisher         Namco Bandai Games           NaN   \n",
       "9066               Midway Games       Candle Light Studios           NaN   \n",
       "14308                 DSI Games  Frame Studios Interactive           NaN   \n",
       "11824                 Banpresto             Atelier Double           NaN   \n",
       "746    Warner Bros. Interactive          Traveller's Tales           7.9   \n",
       "\n",
       "       total_sales  na_sales  jp_sales  pal_sales  other_sales release_date  \\\n",
       "8307          0.15      0.13      0.00       0.01         0.01   2011-11-15   \n",
       "9066          0.13      0.07      0.00       0.05         0.01   1998-10-31   \n",
       "14308         0.03      0.02      0.00       0.01         0.00   2005-08-16   \n",
       "11824         0.07      0.00      0.07       0.00         0.00   1994-03-25   \n",
       "746           1.59      0.95      0.00       0.50         0.14   2010-06-29   \n",
       "\n",
       "       month  year  \n",
       "8307      11  2011  \n",
       "9066      10  1998  \n",
       "14308      8  2005  \n",
       "11824      3  1994  \n",
       "746        6  2010  "
      ]
     },
     "execution_count": 44,
     "metadata": {},
     "output_type": "execute_result"
    }
   ],
   "source": [
    "data_general_clean_date = data_general_clean.copy()\n",
    "\n",
    "data_general_clean_date[\"release_date\"] = pd.to_datetime(data_general_clean_date[\"release_date\"])\n",
    "\n",
    "data_general_clean_date[\"month\"] = data_general_clean_date[\"release_date\"].dt.month.astype(\"Int64\")\n",
    "data_general_clean_date[\"year\"] = data_general_clean_date[\"release_date\"].dt.year.astype(\"Int64\")\n",
    "\n",
    "data_general_clean_date.sample(5)"
   ]
  },
  {
   "cell_type": "markdown",
   "id": "4f8db061",
   "metadata": {},
   "source": [
    "## When should a company release a game to maximize sales at launch?"
   ]
  },
  {
   "cell_type": "code",
   "execution_count": 54,
   "id": "89f27f6d",
   "metadata": {},
   "outputs": [
    {
     "ename": "TypeError",
     "evalue": "boolean value of NA is ambiguous",
     "output_type": "error",
     "traceback": [
      "\u001b[31m---------------------------------------------------------------------------\u001b[39m",
      "\u001b[31mTypeError\u001b[39m                                 Traceback (most recent call last)",
      "\u001b[36mCell\u001b[39m\u001b[36m \u001b[39m\u001b[32mIn[54]\u001b[39m\u001b[32m, line 1\u001b[39m\n\u001b[32m----> \u001b[39m\u001b[32m1\u001b[39m fig = \u001b[43mpx\u001b[49m\u001b[43m.\u001b[49m\u001b[43mline\u001b[49m\u001b[43m(\u001b[49m\n\u001b[32m      2\u001b[39m \u001b[43m    \u001b[49m\u001b[43mdata_general_clean_date\u001b[49m\u001b[43m,\u001b[49m\n\u001b[32m      3\u001b[39m \u001b[43m    \u001b[49m\u001b[43mx\u001b[49m\u001b[43m=\u001b[49m\u001b[33;43m\"\u001b[39;49m\u001b[33;43mmonth\u001b[39;49m\u001b[33;43m\"\u001b[39;49m\u001b[43m,\u001b[49m\n\u001b[32m      4\u001b[39m \u001b[43m    \u001b[49m\u001b[43my\u001b[49m\u001b[43m=\u001b[49m\u001b[33;43m\"\u001b[39;49m\u001b[33;43mtotal_sales\u001b[39;49m\u001b[33;43m\"\u001b[39;49m\u001b[43m,\u001b[49m\n\u001b[32m      5\u001b[39m \u001b[43m    \u001b[49m\u001b[43mcolor\u001b[49m\u001b[43m=\u001b[49m\u001b[33;43m\"\u001b[39;49m\u001b[33;43mcategory\u001b[39;49m\u001b[33;43m\"\u001b[39;49m\u001b[43m \u001b[49m\u001b[38;5;28;43;01mif\u001b[39;49;00m\u001b[43m \u001b[49m\u001b[33;43m\"\u001b[39;49m\u001b[33;43mcategory\u001b[39;49m\u001b[33;43m\"\u001b[39;49m\u001b[43m \u001b[49m\u001b[38;5;129;43;01min\u001b[39;49;00m\u001b[43m \u001b[49m\u001b[43mdata_general_clean_date\u001b[49m\u001b[43m.\u001b[49m\u001b[43mcolumns\u001b[49m\u001b[43m \u001b[49m\u001b[38;5;28;43;01melse\u001b[39;49;00m\u001b[43m \u001b[49m\u001b[38;5;28;43;01mNone\u001b[39;49;00m\u001b[43m,\u001b[49m\u001b[43m  \u001b[49m\u001b[38;5;66;43;03m# optional grouping\u001b[39;49;00m\n\u001b[32m      6\u001b[39m \u001b[43m    \u001b[49m\u001b[43manimation_frame\u001b[49m\u001b[43m=\u001b[49m\u001b[33;43m\"\u001b[39;49m\u001b[33;43myear\u001b[39;49m\u001b[33;43m\"\u001b[39;49m\u001b[43m,\u001b[49m\u001b[43m   \u001b[49m\u001b[38;5;66;43;03m# Each frame = different year\u001b[39;49;00m\n\u001b[32m      7\u001b[39m \u001b[43m    \u001b[49m\u001b[43mmarkers\u001b[49m\u001b[43m=\u001b[49m\u001b[38;5;28;43;01mTrue\u001b[39;49;00m\u001b[43m,\u001b[49m\n\u001b[32m      8\u001b[39m \u001b[43m    \u001b[49m\u001b[43mlabels\u001b[49m\u001b[43m=\u001b[49m\u001b[43m{\u001b[49m\n\u001b[32m      9\u001b[39m \u001b[43m        \u001b[49m\u001b[33;43m\"\u001b[39;49m\u001b[33;43mtotal_sales\u001b[39;49m\u001b[33;43m\"\u001b[39;49m\u001b[43m:\u001b[49m\u001b[43m \u001b[49m\u001b[33;43m\"\u001b[39;49m\u001b[33;43mSales\u001b[39;49m\u001b[33;43m\"\u001b[39;49m\u001b[43m,\u001b[49m\n\u001b[32m     10\u001b[39m \u001b[43m        \u001b[49m\u001b[33;43m\"\u001b[39;49m\u001b[33;43mmonth\u001b[39;49m\u001b[33;43m\"\u001b[39;49m\u001b[43m:\u001b[49m\u001b[43m \u001b[49m\u001b[33;43m\"\u001b[39;49m\u001b[33;43mMonth\u001b[39;49m\u001b[33;43m\"\u001b[39;49m\u001b[43m,\u001b[49m\n\u001b[32m     11\u001b[39m \u001b[43m        \u001b[49m\u001b[33;43m\"\u001b[39;49m\u001b[33;43myear\u001b[39;49m\u001b[33;43m\"\u001b[39;49m\u001b[43m:\u001b[49m\u001b[43m \u001b[49m\u001b[33;43m\"\u001b[39;49m\u001b[33;43mYear\u001b[39;49m\u001b[33;43m\"\u001b[39;49m\n\u001b[32m     12\u001b[39m \u001b[43m    \u001b[49m\u001b[43m}\u001b[49m\u001b[43m,\u001b[49m\n\u001b[32m     13\u001b[39m \u001b[43m    \u001b[49m\u001b[43mtitle\u001b[49m\u001b[43m=\u001b[49m\u001b[33;43m\"\u001b[39;49m\u001b[33;43mMonthly Sales Animated by Year\u001b[39;49m\u001b[33;43m\"\u001b[39;49m\n\u001b[32m     14\u001b[39m \u001b[43m)\u001b[49m\n\u001b[32m     16\u001b[39m \u001b[38;5;66;03m# Make sure months appear in the right order (not alphabetical)\u001b[39;00m\n\u001b[32m     17\u001b[39m fig.update_xaxes(categoryorder=\u001b[33m\"\u001b[39m\u001b[33marray\u001b[39m\u001b[33m\"\u001b[39m, categoryarray=[\n\u001b[32m     18\u001b[39m     \u001b[33m\"\u001b[39m\u001b[33mJan\u001b[39m\u001b[33m\"\u001b[39m,\u001b[33m\"\u001b[39m\u001b[33mFeb\u001b[39m\u001b[33m\"\u001b[39m,\u001b[33m\"\u001b[39m\u001b[33mMar\u001b[39m\u001b[33m\"\u001b[39m,\u001b[33m\"\u001b[39m\u001b[33mApr\u001b[39m\u001b[33m\"\u001b[39m,\u001b[33m\"\u001b[39m\u001b[33mMay\u001b[39m\u001b[33m\"\u001b[39m,\u001b[33m\"\u001b[39m\u001b[33mJun\u001b[39m\u001b[33m\"\u001b[39m,\u001b[33m\"\u001b[39m\u001b[33mJul\u001b[39m\u001b[33m\"\u001b[39m,\u001b[33m\"\u001b[39m\u001b[33mAug\u001b[39m\u001b[33m\"\u001b[39m,\u001b[33m\"\u001b[39m\u001b[33mSep\u001b[39m\u001b[33m\"\u001b[39m,\u001b[33m\"\u001b[39m\u001b[33mOct\u001b[39m\u001b[33m\"\u001b[39m,\u001b[33m\"\u001b[39m\u001b[33mNov\u001b[39m\u001b[33m\"\u001b[39m,\u001b[33m\"\u001b[39m\u001b[33mDec\u001b[39m\u001b[33m\"\u001b[39m\n\u001b[32m     19\u001b[39m ])\n",
      "\u001b[36mFile \u001b[39m\u001b[32mc:\\Users\\Rolfj\\anaconda3\\Lib\\site-packages\\plotly\\express\\_chart_types.py:264\u001b[39m, in \u001b[36mline\u001b[39m\u001b[34m(data_frame, x, y, line_group, color, line_dash, symbol, hover_name, hover_data, custom_data, text, facet_row, facet_col, facet_col_wrap, facet_row_spacing, facet_col_spacing, error_x, error_x_minus, error_y, error_y_minus, animation_frame, animation_group, category_orders, labels, orientation, color_discrete_sequence, color_discrete_map, line_dash_sequence, line_dash_map, symbol_sequence, symbol_map, markers, log_x, log_y, range_x, range_y, line_shape, render_mode, title, template, width, height)\u001b[39m\n\u001b[32m    216\u001b[39m \u001b[38;5;28;01mdef\u001b[39;00m\u001b[38;5;250m \u001b[39m\u001b[34mline\u001b[39m(\n\u001b[32m    217\u001b[39m     data_frame=\u001b[38;5;28;01mNone\u001b[39;00m,\n\u001b[32m    218\u001b[39m     x=\u001b[38;5;28;01mNone\u001b[39;00m,\n\u001b[32m   (...)\u001b[39m\u001b[32m    258\u001b[39m     height=\u001b[38;5;28;01mNone\u001b[39;00m,\n\u001b[32m    259\u001b[39m ) -> go.Figure:\n\u001b[32m    260\u001b[39m \u001b[38;5;250m    \u001b[39m\u001b[33;03m\"\"\"\u001b[39;00m\n\u001b[32m    261\u001b[39m \u001b[33;03m    In a 2D line plot, each row of `data_frame` is represented as vertex of\u001b[39;00m\n\u001b[32m    262\u001b[39m \u001b[33;03m    a polyline mark in 2D space.\u001b[39;00m\n\u001b[32m    263\u001b[39m \u001b[33;03m    \"\"\"\u001b[39;00m\n\u001b[32m--> \u001b[39m\u001b[32m264\u001b[39m     \u001b[38;5;28;01mreturn\u001b[39;00m \u001b[43mmake_figure\u001b[49m\u001b[43m(\u001b[49m\u001b[43margs\u001b[49m\u001b[43m=\u001b[49m\u001b[38;5;28;43mlocals\u001b[39;49m\u001b[43m(\u001b[49m\u001b[43m)\u001b[49m\u001b[43m,\u001b[49m\u001b[43m \u001b[49m\u001b[43mconstructor\u001b[49m\u001b[43m=\u001b[49m\u001b[43mgo\u001b[49m\u001b[43m.\u001b[49m\u001b[43mScatter\u001b[49m\u001b[43m)\u001b[49m\n",
      "\u001b[36mFile \u001b[39m\u001b[32mc:\\Users\\Rolfj\\anaconda3\\Lib\\site-packages\\plotly\\express\\_core.py:2130\u001b[39m, in \u001b[36mmake_figure\u001b[39m\u001b[34m(args, constructor, trace_patch, layout_patch)\u001b[39m\n\u001b[32m   2126\u001b[39m trace_specs, grouped_mappings, sizeref, show_colorbar = infer_config(\n\u001b[32m   2127\u001b[39m     args, constructor, trace_patch, layout_patch\n\u001b[32m   2128\u001b[39m )\n\u001b[32m   2129\u001b[39m grouper = [x.grouper \u001b[38;5;129;01mor\u001b[39;00m one_group \u001b[38;5;28;01mfor\u001b[39;00m x \u001b[38;5;129;01min\u001b[39;00m grouped_mappings] \u001b[38;5;129;01mor\u001b[39;00m [one_group]\n\u001b[32m-> \u001b[39m\u001b[32m2130\u001b[39m groups, orders = \u001b[43mget_groups_and_orders\u001b[49m\u001b[43m(\u001b[49m\u001b[43margs\u001b[49m\u001b[43m,\u001b[49m\u001b[43m \u001b[49m\u001b[43mgrouper\u001b[49m\u001b[43m)\u001b[49m\n\u001b[32m   2132\u001b[39m col_labels = []\n\u001b[32m   2133\u001b[39m row_labels = []\n",
      "\u001b[36mFile \u001b[39m\u001b[32mc:\\Users\\Rolfj\\anaconda3\\Lib\\site-packages\\plotly\\express\\_core.py:2087\u001b[39m, in \u001b[36mget_groups_and_orders\u001b[39m\u001b[34m(args, grouper)\u001b[39m\n\u001b[32m   2082\u001b[39m sorted_group_names = [\n\u001b[32m   2083\u001b[39m     g \u001b[38;5;28;01mif\u001b[39;00m \u001b[38;5;28mlen\u001b[39m(required_grouper) != \u001b[32m1\u001b[39m \u001b[38;5;28;01melse\u001b[39;00m (g,) \u001b[38;5;28;01mfor\u001b[39;00m g \u001b[38;5;129;01min\u001b[39;00m group_indices\n\u001b[32m   2084\u001b[39m ]\n\u001b[32m   2086\u001b[39m \u001b[38;5;28;01mfor\u001b[39;00m i, col \u001b[38;5;129;01min\u001b[39;00m \u001b[38;5;28mreversed\u001b[39m(\u001b[38;5;28mlist\u001b[39m(\u001b[38;5;28menumerate\u001b[39m(required_grouper))):\n\u001b[32m-> \u001b[39m\u001b[32m2087\u001b[39m     sorted_group_names = \u001b[38;5;28;43msorted\u001b[39;49m\u001b[43m(\u001b[49m\n\u001b[32m   2088\u001b[39m \u001b[43m        \u001b[49m\u001b[43msorted_group_names\u001b[49m\u001b[43m,\u001b[49m\n\u001b[32m   2089\u001b[39m \u001b[43m        \u001b[49m\u001b[43mkey\u001b[49m\u001b[43m=\u001b[49m\u001b[38;5;28;43;01mlambda\u001b[39;49;00m\u001b[43m \u001b[49m\u001b[43mg\u001b[49m\u001b[43m:\u001b[49m\u001b[43m \u001b[49m\u001b[43morders\u001b[49m\u001b[43m[\u001b[49m\u001b[43mcol\u001b[49m\u001b[43m]\u001b[49m\u001b[43m.\u001b[49m\u001b[43mindex\u001b[49m\u001b[43m(\u001b[49m\u001b[43mg\u001b[49m\u001b[43m[\u001b[49m\u001b[43mi\u001b[49m\u001b[43m]\u001b[49m\u001b[43m)\u001b[49m\u001b[43m \u001b[49m\u001b[38;5;28;43;01mif\u001b[39;49;00m\u001b[43m \u001b[49m\u001b[43mg\u001b[49m\u001b[43m[\u001b[49m\u001b[43mi\u001b[49m\u001b[43m]\u001b[49m\u001b[43m \u001b[49m\u001b[38;5;129;43;01min\u001b[39;49;00m\u001b[43m \u001b[49m\u001b[43morders\u001b[49m\u001b[43m[\u001b[49m\u001b[43mcol\u001b[49m\u001b[43m]\u001b[49m\u001b[43m \u001b[49m\u001b[38;5;28;43;01melse\u001b[39;49;00m\u001b[43m \u001b[49m\u001b[43m-\u001b[49m\u001b[32;43m1\u001b[39;49m\u001b[43m,\u001b[49m\n\u001b[32m   2090\u001b[39m \u001b[43m    \u001b[49m\u001b[43m)\u001b[49m\n\u001b[32m   2092\u001b[39m \u001b[38;5;66;03m# calculate the full group_names by inserting \"\" in the tuple index for one_group groups\u001b[39;00m\n\u001b[32m   2093\u001b[39m full_sorted_group_names = [\u001b[38;5;28mlist\u001b[39m(t) \u001b[38;5;28;01mfor\u001b[39;00m t \u001b[38;5;129;01min\u001b[39;00m sorted_group_names]\n",
      "\u001b[36mFile \u001b[39m\u001b[32mc:\\Users\\Rolfj\\anaconda3\\Lib\\site-packages\\plotly\\express\\_core.py:2089\u001b[39m, in \u001b[36mget_groups_and_orders.<locals>.<lambda>\u001b[39m\u001b[34m(g)\u001b[39m\n\u001b[32m   2082\u001b[39m sorted_group_names = [\n\u001b[32m   2083\u001b[39m     g \u001b[38;5;28;01mif\u001b[39;00m \u001b[38;5;28mlen\u001b[39m(required_grouper) != \u001b[32m1\u001b[39m \u001b[38;5;28;01melse\u001b[39;00m (g,) \u001b[38;5;28;01mfor\u001b[39;00m g \u001b[38;5;129;01min\u001b[39;00m group_indices\n\u001b[32m   2084\u001b[39m ]\n\u001b[32m   2086\u001b[39m \u001b[38;5;28;01mfor\u001b[39;00m i, col \u001b[38;5;129;01min\u001b[39;00m \u001b[38;5;28mreversed\u001b[39m(\u001b[38;5;28mlist\u001b[39m(\u001b[38;5;28menumerate\u001b[39m(required_grouper))):\n\u001b[32m   2087\u001b[39m     sorted_group_names = \u001b[38;5;28msorted\u001b[39m(\n\u001b[32m   2088\u001b[39m         sorted_group_names,\n\u001b[32m-> \u001b[39m\u001b[32m2089\u001b[39m         key=\u001b[38;5;28;01mlambda\u001b[39;00m g: orders[col].index(g[i]) \u001b[38;5;28;01mif\u001b[39;00m \u001b[43mg\u001b[49m\u001b[43m[\u001b[49m\u001b[43mi\u001b[49m\u001b[43m]\u001b[49m\u001b[43m \u001b[49m\u001b[38;5;129;43;01min\u001b[39;49;00m\u001b[43m \u001b[49m\u001b[43morders\u001b[49m\u001b[43m[\u001b[49m\u001b[43mcol\u001b[49m\u001b[43m]\u001b[49m \u001b[38;5;28;01melse\u001b[39;00m -\u001b[32m1\u001b[39m,\n\u001b[32m   2090\u001b[39m     )\n\u001b[32m   2092\u001b[39m \u001b[38;5;66;03m# calculate the full group_names by inserting \"\" in the tuple index for one_group groups\u001b[39;00m\n\u001b[32m   2093\u001b[39m full_sorted_group_names = [\u001b[38;5;28mlist\u001b[39m(t) \u001b[38;5;28;01mfor\u001b[39;00m t \u001b[38;5;129;01min\u001b[39;00m sorted_group_names]\n",
      "\u001b[36mFile \u001b[39m\u001b[32mmissing.pyx:392\u001b[39m, in \u001b[36mpandas._libs.missing.NAType.__bool__\u001b[39m\u001b[34m()\u001b[39m\n",
      "\u001b[31mTypeError\u001b[39m: boolean value of NA is ambiguous"
     ]
    }
   ],
   "source": [
    "fig = px.line(\n",
    "    data_general_clean_date,\n",
    "    x=\"month\",\n",
    "    y=\"total_sales\",\n",
    "    color=\"category\" if \"category\" in data_general_clean_date.columns else None,  # optional grouping\n",
    "    animation_frame=\"year\",   # Each frame = different year\n",
    "    markers=True,\n",
    "    labels={\n",
    "        \"total_sales\": \"Sales\",\n",
    "        \"month\": \"Month\",\n",
    "        \"year\": \"Year\"\n",
    "    },\n",
    "    title=\"Monthly Sales Animated by Year\"\n",
    ")\n",
    "\n",
    "# Make sure months appear in the right order (not alphabetical)\n",
    "fig.update_xaxes(categoryorder=\"array\", categoryarray=[\n",
    "    \"Jan\",\"Feb\",\"Mar\",\"Apr\",\"May\",\"Jun\",\"Jul\",\"Aug\",\"Sep\",\"Oct\",\"Nov\",\"Dec\"\n",
    "])\n",
    "\n",
    "fig.show()"
   ]
  }
 ],
 "metadata": {
  "kernelspec": {
   "display_name": "base",
   "language": "python",
   "name": "python3"
  },
  "language_info": {
   "codemirror_mode": {
    "name": "ipython",
    "version": 3
   },
   "file_extension": ".py",
   "mimetype": "text/x-python",
   "name": "python",
   "nbconvert_exporter": "python",
   "pygments_lexer": "ipython3",
   "version": "3.13.5"
  }
 },
 "nbformat": 4,
 "nbformat_minor": 5
}
